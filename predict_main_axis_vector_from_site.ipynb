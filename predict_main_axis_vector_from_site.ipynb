{
 "cells": [
  {
   "cell_type": "markdown",
   "metadata": {},
   "source": [
    "predict_main_axis_vector 관련 기록들"
   ]
  },
  {
   "cell_type": "code",
   "execution_count": 1,
   "metadata": {},
   "outputs": [],
   "source": [
    "import json\n",
    "import numpy as np\n",
    "\n",
    "with open(\"test_result.json\", \"r\", encoding=\"utf-8\") as f:\n",
    "    test_result = json.load(f)\n",
    "\n",
    "def get_angle_between(vector_u, vector_v):\n",
    "    # Calculate the dot product\n",
    "    dot_product = np.dot(vector_u, vector_v)\n",
    "\n",
    "    # Calculate the magnitude of each vector\n",
    "    norm_u = np.linalg.norm(vector_u)\n",
    "    norm_v = np.linalg.norm(vector_v)\n",
    "\n",
    "    # Calculate the cosine of the angle\n",
    "    cos_theta = dot_product / (norm_u * norm_v)\n",
    "\n",
    "    # Calculate the angle in radians\n",
    "    angle_radians = np.arccos(cos_theta)\n",
    "\n",
    "    # Convert angle to degrees (optional)\n",
    "    angle_degrees = np.degrees(angle_radians)\n",
    "\n",
    "    return angle_degrees"
   ]
  },
  {
   "cell_type": "code",
   "execution_count": 2,
   "metadata": {},
   "outputs": [
    {
     "data": {
      "text/plain": [
       "dict_keys(['test_datsets', 'test_vecs', 'result_vecs'])"
      ]
     },
     "execution_count": 2,
     "metadata": {},
     "output_type": "execute_result"
    }
   ],
   "source": [
    "test_result.keys()"
   ]
  },
  {
   "cell_type": "code",
   "execution_count": 5,
   "metadata": {},
   "outputs": [
    {
     "name": "stdout",
     "output_type": "stream",
     "text": [
      "64 32\n",
      "64 18\n"
     ]
    }
   ],
   "source": [
    "import random\n",
    "\n",
    "random.seed(1)\n",
    "\n",
    "angle_tol = 10\n",
    "\n",
    "is_close_angle_list = []\n",
    "is_close_angle_random_list = []\n",
    "for i in range(len(test_result[\"test_vecs\"])):\n",
    "    test_vec = test_result[\"test_vecs\"][i]\n",
    "    result_vec = test_result[\"result_vecs\"][i]\n",
    "    random_vec = (random.random(), random.random())\n",
    "\n",
    "    angle_between = get_angle_between(test_vec, result_vec)\n",
    "    angle_between_random_vec = get_angle_between(random_vec, result_vec)\n",
    "\n",
    "    is_close_angle = abs(angle_between) < angle_tol or abs(angle_between - 90) < angle_tol\n",
    "    is_close_angle_random = abs(angle_between_random_vec) < angle_tol or abs(angle_between_random_vec - 90) < angle_tol\n",
    "\n",
    "    is_close_angle_list.append(is_close_angle)\n",
    "    is_close_angle_random_list.append(is_close_angle_random)\n",
    "\n",
    "print(len(is_close_angle_list), sum(is_close_angle_list))\n",
    "print(len(is_close_angle_random_list), sum(is_close_angle_random_list))"
   ]
  },
  {
   "cell_type": "code",
   "execution_count": null,
   "metadata": {},
   "outputs": [],
   "source": []
  },
  {
   "cell_type": "code",
   "execution_count": null,
   "metadata": {},
   "outputs": [],
   "source": []
  }
 ],
 "metadata": {
  "kernelspec": {
   "display_name": "Python 3",
   "language": "python",
   "name": "python3"
  },
  "language_info": {
   "codemirror_mode": {
    "name": "ipython",
    "version": 3
   },
   "file_extension": ".py",
   "mimetype": "text/x-python",
   "name": "python",
   "nbconvert_exporter": "python",
   "pygments_lexer": "ipython3",
   "version": "3.12.3"
  }
 },
 "nbformat": 4,
 "nbformat_minor": 2
}
